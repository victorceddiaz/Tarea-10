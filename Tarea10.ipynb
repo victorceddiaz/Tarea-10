{
  "nbformat": 4,
  "nbformat_minor": 0,
  "metadata": {
    "colab": {
      "name": "Tarea10.ipynb",
      "provenance": [],
      "collapsed_sections": [],
      "authorship_tag": "ABX9TyN8UWsLT+uSgUxuDmWlRLJ+",
      "include_colab_link": true
    },
    "kernelspec": {
      "name": "python3",
      "display_name": "Python 3"
    },
    "language_info": {
      "name": "python"
    }
  },
  "cells": [
    {
      "cell_type": "markdown",
      "metadata": {
        "id": "view-in-github",
        "colab_type": "text"
      },
      "source": [
        "<a href=\"https://colab.research.google.com/github/victorceddiaz/Tarea-10/blob/main/Tarea10.ipynb\" target=\"_parent\"><img src=\"https://colab.research.google.com/assets/colab-badge.svg\" alt=\"Open In Colab\"/></a>"
      ]
    },
    {
      "cell_type": "markdown",
      "metadata": {
        "id": "QoouwENMasAk"
      },
      "source": [
        "#Tarea 10\n",
        "\n",
        "Alumno: Cedillo Díaz Victor Antonio\n",
        "\n",
        "Grupo: 1310\n",
        "\n",
        "Materia: Estructura de Datos"
      ]
    },
    {
      "cell_type": "markdown",
      "metadata": {
        "id": "esGtaAOWdtqA"
      },
      "source": [
        "#Colas de Prioridad no Acotadas"
      ]
    },
    {
      "cell_type": "code",
      "metadata": {
        "id": "SmHtB6Qiaq_s"
      },
      "source": [
        "class PriorityQueue :\n",
        "    def __init__(self) :\n",
        "        self.data = []\n",
        "        self.index = []\n",
        "    \n",
        "    def is_empty(self) :\n",
        "        return len(self.data) == 0 \n",
        "    \n",
        "    def length(self) :\n",
        "        return len(self.data)\n",
        "\n",
        "    def enqueue(self, prioridad, elem):\n",
        "        if len(self.data) == 0 :\n",
        "            self.data.append(elem)\n",
        "            self.index.append(prioridad)\n",
        "        elif prioridad >= self.index[-1] :\n",
        "            self.data.append(elem)\n",
        "            self.index.append(prioridad)\n",
        "        else :\n",
        "            contador = 0\n",
        "            for elemento in self.index :\n",
        "                if prioridad >= elemento :\n",
        "                    contador += 1\n",
        "            self.data.insert(contador, elem)\n",
        "            self.index.insert(contador, prioridad)\n",
        "\n",
        "    def dequeue(self) :\n",
        "        eliminar = self.index.pop(0)\n",
        "        return self.data.pop(0)\n",
        "    \n",
        "    def to_string(self) :\n",
        "        contador = 0\n",
        "        for elem in self.data :\n",
        "            print(f'|{self.index[contador], elem}|<--', end=\"\")\n",
        "            contador += 1\n",
        "        print(\"\")"
      ],
      "execution_count": 205,
      "outputs": []
    },
    {
      "cell_type": "code",
      "metadata": {
        "colab": {
          "base_uri": "https://localhost:8080/"
        },
        "id": "fOjdgCvLtOQp",
        "outputId": "c4b84f77-aabd-453b-8e59-637a9998b533"
      },
      "source": [
        "cola = PriorityQueue()\n",
        "print(\"¿Cola vacía? : \", cola.is_empty())\n",
        "cola.enqueue(4, \"Maestre\")\n",
        "cola.enqueue(2, \"Niños\")\n",
        "cola.enqueue(4, \"Mecánico\")\n",
        "cola.enqueue(3, \"Hombres\")\n",
        "cola.enqueue(4, \"Vigia\")\n",
        "cola.enqueue(5, \"Capitán\")\n",
        "cola.enqueue(4, \"Timonel\")\n",
        "cola.enqueue(3, \"Mujeres\")\n",
        "cola.enqueue(2, \"3ra Edad\")\n",
        "cola.enqueue(1, \"Niñas\")\n",
        "print(\"Longitud: \", cola.length())\n",
        "print(\"¿Cola vacía? : \", cola.is_empty())\n",
        "cola.to_string()\n",
        "print(\"\")\n",
        "cola.dequeue()\n",
        "cola.to_string()"
      ],
      "execution_count": 206,
      "outputs": [
        {
          "output_type": "stream",
          "name": "stdout",
          "text": [
            "¿Cola vacía? :  True\n",
            "Longitud:  10\n",
            "¿Cola vacía? :  False\n",
            "|(1, 'Niñas')|<--|(2, 'Niños')|<--|(2, '3ra Edad')|<--|(3, 'Hombres')|<--|(3, 'Mujeres')|<--|(4, 'Maestre')|<--|(4, 'Mecánico')|<--|(4, 'Vigia')|<--|(4, 'Timonel')|<--|(5, 'Capitán')|<--\n",
            "\n",
            "|(2, 'Niños')|<--|(2, '3ra Edad')|<--|(3, 'Hombres')|<--|(3, 'Mujeres')|<--|(4, 'Maestre')|<--|(4, 'Mecánico')|<--|(4, 'Vigia')|<--|(4, 'Timonel')|<--|(5, 'Capitán')|<--\n"
          ]
        }
      ]
    },
    {
      "cell_type": "markdown",
      "metadata": {
        "id": "7uA79Q00d4nU"
      },
      "source": [
        "#Colas de Prioridad Acotadas"
      ]
    },
    {
      "cell_type": "code",
      "metadata": {
        "id": "-ALOo2muMElt"
      },
      "source": [
        "class Queue:\n",
        "    def __init__(self) :\n",
        "        self.data = []\n",
        "\n",
        "    def is_empty(self) :\n",
        "        return len(self.data) == 0  \n",
        "    \n",
        "    def length(self) :\n",
        "        return len(self.data)\n",
        "\n",
        "    def enqueue(self, value) :\n",
        "        self.data.append(value)\n",
        "    \n",
        "    def dequeue(self) :\n",
        "        return self.data.pop()\n",
        "    \n",
        "    def to_string(self) :\n",
        "        for elem in self.data :\n",
        "            print(f'|{elem}| <-- ', end=\"\")"
      ],
      "execution_count": 207,
      "outputs": []
    },
    {
      "cell_type": "code",
      "metadata": {
        "id": "EjXsB_CRd4C5"
      },
      "source": [
        "class BoundedPriorityQueue :\n",
        "    def __init__(self, niveles) :\n",
        "        self.data = [Queue() for x in range(niveles)]\n",
        "        self.tamaño = 0\n",
        "    \n",
        "    def is_empty(self) :\n",
        "        return self.tamaño == 0\n",
        "    \n",
        "    def length(self) :\n",
        "        return self.tamaño\n",
        "\n",
        "    def enqueue(self, prioridad, elem) :\n",
        "        if prioridad < len(self.data) and prioridad >= 0:\n",
        "            self.data[prioridad].enqueue(elem)\n",
        "            self.tamaño += 1\n",
        "        else :\n",
        "            print(f'No se puede encolar |{prioridad},{elem}| ya que se encuentra fuera del rango de prioridad.')\n",
        "    \n",
        "    def dequeue(self) :\n",
        "        if self.is_empty() :\n",
        "            print(\"No hay elementos en la cola.\")\n",
        "        else :\n",
        "            contador = len(self.data)-1\n",
        "            while contador >=0 :\n",
        "                if self.data[contador].is_empty() :\n",
        "                    contador -= 1\n",
        "                else :\n",
        "                    break\n",
        "            self.tamaño -= 1\n",
        "            return self.data[contador].dequeue()\n",
        "\n",
        "    def to_string(self) :\n",
        "        for index in range(len(self.data)) :\n",
        "            if self.data[index].is_empty() :\n",
        "                pass\n",
        "            else :\n",
        "                self.data[index].to_string()\n",
        "        print(\"\")"
      ],
      "execution_count": 208,
      "outputs": []
    },
    {
      "cell_type": "code",
      "metadata": {
        "colab": {
          "base_uri": "https://localhost:8080/"
        },
        "id": "grK0cu7dM0YD",
        "outputId": "9813ca61-3d78-4dff-d398-0bb92b620c02"
      },
      "source": [
        "cola = BoundedPriorityQueue(7) # 0 - 6\n",
        "print(\"Longitud: \", cola.length())\n",
        "print(\"¿Cola vacía? : \", cola.is_empty())\n",
        "cola.enqueue(4, \"Maestre\")\n",
        "cola.enqueue(2, \"Niños\")\n",
        "cola.enqueue(4, \"Mecánico\")\n",
        "cola.enqueue(3, \"Hombres\")\n",
        "cola.enqueue(4, \"Vigia\")\n",
        "cola.enqueue(5, \"Capitán\")\n",
        "cola.enqueue(4, \"Timonel\")\n",
        "cola.enqueue(3, \"Mujeres\")\n",
        "cola.enqueue(2, \"3ra Edad\")\n",
        "cola.enqueue(1, \"Niñas\")\n",
        "print(\"Longitud: \", cola.length())\n",
        "print(\"¿Cola vacía? : \", cola.is_empty())\n",
        "cola.to_string()\n",
        "print(cola.dequeue())\n",
        "cola.to_string()\n",
        "print(\"Longitud: \", cola.length())"
      ],
      "execution_count": 209,
      "outputs": [
        {
          "output_type": "stream",
          "name": "stdout",
          "text": [
            "Longitud:  0\n",
            "¿Cola vacía? :  True\n",
            "Longitud:  10\n",
            "¿Cola vacía? :  False\n",
            "|Niñas| <-- |Niños| <-- |3ra Edad| <-- |Hombres| <-- |Mujeres| <-- |Maestre| <-- |Mecánico| <-- |Vigia| <-- |Timonel| <-- |Capitán| <-- \n",
            "Capitán\n",
            "|Niñas| <-- |Niños| <-- |3ra Edad| <-- |Hombres| <-- |Mujeres| <-- |Maestre| <-- |Mecánico| <-- |Vigia| <-- |Timonel| <-- \n",
            "Longitud:  9\n"
          ]
        }
      ]
    }
  ]
}